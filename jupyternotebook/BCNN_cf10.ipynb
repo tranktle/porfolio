{
  "nbformat": 4,
  "nbformat_minor": 0,
  "metadata": {
    "accelerator": "TPU",
    "colab": {
      "name": "BCNN_cf10.ipynb",
      "provenance": [],
      "collapsed_sections": []
    },
    "kernelspec": {
      "display_name": "Python 3",
      "name": "python3"
    },
    "language_info": {
      "name": "python"
    },
    "widgets": {
      "application/vnd.jupyter.widget-state+json": {
        "808c51334b7f4af59503c092416c368b": {
          "model_module": "@jupyter-widgets/controls",
          "model_name": "HBoxModel",
          "state": {
            "_view_name": "HBoxView",
            "_dom_classes": [],
            "_model_name": "HBoxModel",
            "_view_module": "@jupyter-widgets/controls",
            "_model_module_version": "1.5.0",
            "_view_count": null,
            "_view_module_version": "1.5.0",
            "box_style": "",
            "layout": "IPY_MODEL_550633ee3b564cd5b3c49cea05537b62",
            "_model_module": "@jupyter-widgets/controls",
            "children": [
              "IPY_MODEL_f9ebad540eab49088c99e99491d8380c",
              "IPY_MODEL_bf0f4bdc7b5242d3b32972123b37517f"
            ]
          }
        },
        "550633ee3b564cd5b3c49cea05537b62": {
          "model_module": "@jupyter-widgets/base",
          "model_name": "LayoutModel",
          "state": {
            "_view_name": "LayoutView",
            "grid_template_rows": null,
            "right": null,
            "justify_content": null,
            "_view_module": "@jupyter-widgets/base",
            "overflow": null,
            "_model_module_version": "1.2.0",
            "_view_count": null,
            "flex_flow": null,
            "width": null,
            "min_width": null,
            "border": null,
            "align_items": null,
            "bottom": null,
            "_model_module": "@jupyter-widgets/base",
            "top": null,
            "grid_column": null,
            "overflow_y": null,
            "overflow_x": null,
            "grid_auto_flow": null,
            "grid_area": null,
            "grid_template_columns": null,
            "flex": null,
            "_model_name": "LayoutModel",
            "justify_items": null,
            "grid_row": null,
            "max_height": null,
            "align_content": null,
            "visibility": null,
            "align_self": null,
            "height": null,
            "min_height": null,
            "padding": null,
            "grid_auto_rows": null,
            "grid_gap": null,
            "max_width": null,
            "order": null,
            "_view_module_version": "1.2.0",
            "grid_template_areas": null,
            "object_position": null,
            "object_fit": null,
            "grid_auto_columns": null,
            "margin": null,
            "display": null,
            "left": null
          }
        },
        "f9ebad540eab49088c99e99491d8380c": {
          "model_module": "@jupyter-widgets/controls",
          "model_name": "FloatProgressModel",
          "state": {
            "_view_name": "ProgressView",
            "style": "IPY_MODEL_c72b6265a16543149540537ca783be17",
            "_dom_classes": [],
            "description": "100%",
            "_model_name": "FloatProgressModel",
            "bar_style": "success",
            "max": 10000,
            "_view_module": "@jupyter-widgets/controls",
            "_model_module_version": "1.5.0",
            "value": 10000,
            "_view_count": null,
            "_view_module_version": "1.5.0",
            "orientation": "horizontal",
            "min": 0,
            "description_tooltip": null,
            "_model_module": "@jupyter-widgets/controls",
            "layout": "IPY_MODEL_6732f7bb037d4d0b9a35c2a8c1dd9ceb"
          }
        },
        "bf0f4bdc7b5242d3b32972123b37517f": {
          "model_module": "@jupyter-widgets/controls",
          "model_name": "HTMLModel",
          "state": {
            "_view_name": "HTMLView",
            "style": "IPY_MODEL_035e403a09b64e94b0bbcd629365ce49",
            "_dom_classes": [],
            "description": "",
            "_model_name": "HTMLModel",
            "placeholder": "​",
            "_view_module": "@jupyter-widgets/controls",
            "_model_module_version": "1.5.0",
            "value": " 10000/10000 [30:23&lt;00:00,  5.49it/s]",
            "_view_count": null,
            "_view_module_version": "1.5.0",
            "description_tooltip": null,
            "_model_module": "@jupyter-widgets/controls",
            "layout": "IPY_MODEL_be5b962f2519400c93e2d37eefe65622"
          }
        },
        "c72b6265a16543149540537ca783be17": {
          "model_module": "@jupyter-widgets/controls",
          "model_name": "ProgressStyleModel",
          "state": {
            "_view_name": "StyleView",
            "_model_name": "ProgressStyleModel",
            "description_width": "initial",
            "_view_module": "@jupyter-widgets/base",
            "_model_module_version": "1.5.0",
            "_view_count": null,
            "_view_module_version": "1.2.0",
            "bar_color": null,
            "_model_module": "@jupyter-widgets/controls"
          }
        },
        "6732f7bb037d4d0b9a35c2a8c1dd9ceb": {
          "model_module": "@jupyter-widgets/base",
          "model_name": "LayoutModel",
          "state": {
            "_view_name": "LayoutView",
            "grid_template_rows": null,
            "right": null,
            "justify_content": null,
            "_view_module": "@jupyter-widgets/base",
            "overflow": null,
            "_model_module_version": "1.2.0",
            "_view_count": null,
            "flex_flow": null,
            "width": null,
            "min_width": null,
            "border": null,
            "align_items": null,
            "bottom": null,
            "_model_module": "@jupyter-widgets/base",
            "top": null,
            "grid_column": null,
            "overflow_y": null,
            "overflow_x": null,
            "grid_auto_flow": null,
            "grid_area": null,
            "grid_template_columns": null,
            "flex": null,
            "_model_name": "LayoutModel",
            "justify_items": null,
            "grid_row": null,
            "max_height": null,
            "align_content": null,
            "visibility": null,
            "align_self": null,
            "height": null,
            "min_height": null,
            "padding": null,
            "grid_auto_rows": null,
            "grid_gap": null,
            "max_width": null,
            "order": null,
            "_view_module_version": "1.2.0",
            "grid_template_areas": null,
            "object_position": null,
            "object_fit": null,
            "grid_auto_columns": null,
            "margin": null,
            "display": null,
            "left": null
          }
        },
        "035e403a09b64e94b0bbcd629365ce49": {
          "model_module": "@jupyter-widgets/controls",
          "model_name": "DescriptionStyleModel",
          "state": {
            "_view_name": "StyleView",
            "_model_name": "DescriptionStyleModel",
            "description_width": "",
            "_view_module": "@jupyter-widgets/base",
            "_model_module_version": "1.5.0",
            "_view_count": null,
            "_view_module_version": "1.2.0",
            "_model_module": "@jupyter-widgets/controls"
          }
        },
        "be5b962f2519400c93e2d37eefe65622": {
          "model_module": "@jupyter-widgets/base",
          "model_name": "LayoutModel",
          "state": {
            "_view_name": "LayoutView",
            "grid_template_rows": null,
            "right": null,
            "justify_content": null,
            "_view_module": "@jupyter-widgets/base",
            "overflow": null,
            "_model_module_version": "1.2.0",
            "_view_count": null,
            "flex_flow": null,
            "width": null,
            "min_width": null,
            "border": null,
            "align_items": null,
            "bottom": null,
            "_model_module": "@jupyter-widgets/base",
            "top": null,
            "grid_column": null,
            "overflow_y": null,
            "overflow_x": null,
            "grid_auto_flow": null,
            "grid_area": null,
            "grid_template_columns": null,
            "flex": null,
            "_model_name": "LayoutModel",
            "justify_items": null,
            "grid_row": null,
            "max_height": null,
            "align_content": null,
            "visibility": null,
            "align_self": null,
            "height": null,
            "min_height": null,
            "padding": null,
            "grid_auto_rows": null,
            "grid_gap": null,
            "max_width": null,
            "order": null,
            "_view_module_version": "1.2.0",
            "grid_template_areas": null,
            "object_position": null,
            "object_fit": null,
            "grid_auto_columns": null,
            "margin": null,
            "display": null,
            "left": null
          }
        }
      }
    }
  },
  "cells": [
    {
      "cell_type": "code",
      "metadata": {
        "id": "ABmvtT7qlJS_"
      },
      "source": [
        "import numpy as np\n",
        "import tensorflow as tf\n",
        "from tensorflow import keras\n",
        "from tensorflow.keras import layers\n",
        "import tensorflow_datasets as tfds\n",
        "import tensorflow_probability as tfp\n",
        "import cv2\n",
        "import matplotlib.pyplot as plt\n",
        "import matplotlib.image as mpimg\n",
        "from tqdm import tqdm_notebook as tqdm"
      ],
      "execution_count": 1,
      "outputs": []
    },
    {
      "cell_type": "code",
      "metadata": {
        "id": "ILJLtphelMpO",
        "colab": {
          "base_uri": "https://localhost:8080/"
        },
        "outputId": "5862be90-7b3a-49ad-ec4d-7eca21a48762"
      },
      "source": [
        "(x_train, y_train), (x_test, y_test) = tf.keras.datasets.cifar10.load_data()"
      ],
      "execution_count": 2,
      "outputs": [
        {
          "output_type": "stream",
          "text": [
            "Downloading data from https://www.cs.toronto.edu/~kriz/cifar-10-python.tar.gz\n",
            "170500096/170498071 [==============================] - 3s 0us/step\n"
          ],
          "name": "stdout"
        }
      ]
    },
    {
      "cell_type": "code",
      "metadata": {
        "id": "qrdoS8qlL7XE"
      },
      "source": [
        "y_train = tf.keras.utils.to_categorical(y_train, num_classes=10)\n",
        "y_test = tf.keras.utils.to_categorical(y_test, num_classes=10)"
      ],
      "execution_count": 3,
      "outputs": []
    },
    {
      "cell_type": "code",
      "metadata": {
        "id": "bdujx6pgE7U8"
      },
      "source": [
        "train_ds = tf.data.Dataset.from_tensor_slices((x_train/255, y_train))\n",
        "test_ds = tf.data.Dataset.from_tensor_slices((x_test/255, y_test))\n",
        "val_ds = test_ds.take(100)\n"
      ],
      "execution_count": 4,
      "outputs": []
    },
    {
      "cell_type": "code",
      "metadata": {
        "id": "xGZhNyusL2c8"
      },
      "source": [
        "y = [y for x, y in val_ds]"
      ],
      "execution_count": 5,
      "outputs": []
    },
    {
      "cell_type": "code",
      "metadata": {
        "colab": {
          "base_uri": "https://localhost:8080/"
        },
        "id": "1vLQANKnPLi_",
        "outputId": "2a9b2cbe-1dc3-4119-d08d-d64ce82909e8"
      },
      "source": [
        "y[1]"
      ],
      "execution_count": 6,
      "outputs": [
        {
          "output_type": "execute_result",
          "data": {
            "text/plain": [
              "<tf.Tensor: shape=(10,), dtype=float32, numpy=array([0., 0., 0., 0., 0., 0., 0., 0., 1., 0.], dtype=float32)>"
            ]
          },
          "metadata": {
            "tags": []
          },
          "execution_count": 6
        }
      ]
    },
    {
      "cell_type": "code",
      "metadata": {
        "colab": {
          "base_uri": "https://localhost:8080/"
        },
        "id": "DSz2VFHxPg3N",
        "outputId": "a196ac06-2b49-4c05-95ef-cfc71824e92d"
      },
      "source": [
        "z= np.concatenate([z for z in val_ds], axis=0)"
      ],
      "execution_count": 7,
      "outputs": [
        {
          "output_type": "stream",
          "text": [
            "<string>:6: VisibleDeprecationWarning: Creating an ndarray from ragged nested sequences (which is a list-or-tuple of lists-or-tuples-or ndarrays with different lengths or shapes) is deprecated. If you meant to do this, you must specify 'dtype=object' when creating the ndarray\n"
          ],
          "name": "stderr"
        }
      ]
    },
    {
      "cell_type": "code",
      "metadata": {
        "colab": {
          "base_uri": "https://localhost:8080/"
        },
        "id": "ajpg5mk_QV8E",
        "outputId": "e8e326c9-9b52-40cb-8d46-9646a1b17171"
      },
      "source": [
        "z[1]"
      ],
      "execution_count": 8,
      "outputs": [
        {
          "output_type": "execute_result",
          "data": {
            "text/plain": [
              "<tf.Tensor: shape=(10,), dtype=float32, numpy=array([0., 0., 0., 1., 0., 0., 0., 0., 0., 0.], dtype=float32)>"
            ]
          },
          "metadata": {
            "tags": []
          },
          "execution_count": 8
        }
      ]
    },
    {
      "cell_type": "code",
      "metadata": {
        "colab": {
          "base_uri": "https://localhost:8080/"
        },
        "id": "aduAxzHpFY4m",
        "outputId": "5a5f45e7-d137-403c-c075-518d78b31f01"
      },
      "source": [
        "train_ds.element_spec"
      ],
      "execution_count": 9,
      "outputs": [
        {
          "output_type": "execute_result",
          "data": {
            "text/plain": [
              "(TensorSpec(shape=(32, 32, 3), dtype=tf.float64, name=None),\n",
              " TensorSpec(shape=(10,), dtype=tf.float32, name=None))"
            ]
          },
          "metadata": {
            "tags": []
          },
          "execution_count": 9
        }
      ]
    },
    {
      "cell_type": "code",
      "metadata": {
        "colab": {
          "base_uri": "https://localhost:8080/"
        },
        "id": "IWZTmB9b2BAv",
        "outputId": "e6406990-0052-4191-d6d7-0010ec3b4493"
      },
      "source": [
        "test_ds.element_spec"
      ],
      "execution_count": 10,
      "outputs": [
        {
          "output_type": "execute_result",
          "data": {
            "text/plain": [
              "(TensorSpec(shape=(32, 32, 3), dtype=tf.float64, name=None),\n",
              " TensorSpec(shape=(10,), dtype=tf.float32, name=None))"
            ]
          },
          "metadata": {
            "tags": []
          },
          "execution_count": 10
        }
      ]
    },
    {
      "cell_type": "code",
      "metadata": {
        "id": "2MF8OhFrK4IP"
      },
      "source": [
        "BATCH_SIZE = 64\n",
        "SHUFFLE_BUFFER_SIZE = 100\n",
        "\n",
        "train_dataset = train_ds.shuffle(SHUFFLE_BUFFER_SIZE).batch(BATCH_SIZE)\n",
        "test_dataset = test_ds.shuffle(SHUFFLE_BUFFER_SIZE).batch(BATCH_SIZE)"
      ],
      "execution_count": 11,
      "outputs": []
    },
    {
      "cell_type": "code",
      "metadata": {
        "id": "xT98hyl4lQA7"
      },
      "source": [
        "datagen = tf.keras.preprocessing.image.ImageDataGenerator(\n",
        "    featurewise_center=True,\n",
        "    featurewise_std_normalization=True,\n",
        "    rotation_range=20,\n",
        "    width_shift_range=0.2,\n",
        "    height_shift_range=0.2,\n",
        "    horizontal_flip=True,\n",
        "    validation_split=0.2)\n",
        "# compute quantities required for featurewise normalization\n",
        "# (std, mean, and principal components if ZCA whitening is applied)\n",
        "# datagen.fit(x_train)\n"
      ],
      "execution_count": 12,
      "outputs": []
    },
    {
      "cell_type": "code",
      "metadata": {
        "id": "TOWpht2_ls3-"
      },
      "source": [
        "train_len = len(x_train)"
      ],
      "execution_count": 13,
      "outputs": []
    },
    {
      "cell_type": "code",
      "metadata": {
        "colab": {
          "base_uri": "https://localhost:8080/"
        },
        "id": "2ESx0duMlhDV",
        "outputId": "6bf784c1-c7b0-4ad1-815d-40215d322baf"
      },
      "source": [
        "image_size = (32,32,3)\n",
        "kernel_divergence_fn=lambda q, p, _: tfp.distributions.kl_divergence(q, p) / train_len\n",
        "\n",
        "model_vi = tf.keras.Sequential()\n",
        "model_vi.add(tfp.layers.Convolution2DFlipout(8,kernel_size=(3,3),padding=\"same\", activation = 'relu', kernel_divergence_fn=kernel_divergence_fn,input_shape=(32,32,3)))\n",
        "model_vi.add(tfp.layers.Convolution2DFlipout(8,kernel_size=(3,3),padding=\"same\", activation = 'relu', kernel_divergence_fn=kernel_divergence_fn))\n",
        "model_vi.add(tf.keras.layers.MaxPooling2D((2,2)))\n",
        "model_vi.add(tfp.layers.Convolution2DFlipout(16,kernel_size=(3,3),padding=\"same\", activation = 'relu', kernel_divergence_fn=kernel_divergence_fn))\n",
        "model_vi.add(tfp.layers.Convolution2DFlipout(16,kernel_size=(3,3),padding=\"same\", activation = 'relu', kernel_divergence_fn=kernel_divergence_fn))\n",
        "model_vi.add(tf.keras.layers.MaxPooling2D((2,2)))\n",
        "model_vi.add(tf.keras.layers.Flatten())\n",
        "model_vi.add(tfp.layers.DenseFlipout(100, activation = 'relu', kernel_divergence_fn=kernel_divergence_fn))\n",
        "model_vi.add(tfp.layers.DenseFlipout(100, activation = 'relu', kernel_divergence_fn=kernel_divergence_fn))\n",
        "model_vi.add(tfp.layers.DenseFlipout(10, activation = 'softmax', kernel_divergence_fn=kernel_divergence_fn))\n",
        "\n",
        "model_vi.compile(loss='categorical_crossentropy', optimizer=\"adam\", metrics=['accuracy'])\n",
        "model_vi.summary()"
      ],
      "execution_count": 14,
      "outputs": [
        {
          "output_type": "stream",
          "text": [
            "/usr/local/lib/python3.7/dist-packages/tensorflow/python/keras/engine/base_layer.py:2191: UserWarning: `layer.add_variable` is deprecated and will be removed in a future version. Please use `layer.add_weight` method instead.\n",
            "  warnings.warn('`layer.add_variable` is deprecated and '\n"
          ],
          "name": "stderr"
        },
        {
          "output_type": "stream",
          "text": [
            "Model: \"sequential\"\n",
            "_________________________________________________________________\n",
            "Layer (type)                 Output Shape              Param #   \n",
            "=================================================================\n",
            "conv2d_flipout (Conv2DFlipou (None, 32, 32, 8)         440       \n",
            "_________________________________________________________________\n",
            "conv2d_flipout_1 (Conv2DFlip (None, 32, 32, 8)         1160      \n",
            "_________________________________________________________________\n",
            "max_pooling2d (MaxPooling2D) (None, 16, 16, 8)         0         \n",
            "_________________________________________________________________\n",
            "conv2d_flipout_2 (Conv2DFlip (None, 16, 16, 16)        2320      \n",
            "_________________________________________________________________\n",
            "conv2d_flipout_3 (Conv2DFlip (None, 16, 16, 16)        4624      \n",
            "_________________________________________________________________\n",
            "max_pooling2d_1 (MaxPooling2 (None, 8, 8, 16)          0         \n",
            "_________________________________________________________________\n",
            "flatten (Flatten)            (None, 1024)              0         \n",
            "_________________________________________________________________\n",
            "dense_flipout (DenseFlipout) (None, 100)               204900    \n",
            "_________________________________________________________________\n",
            "dense_flipout_1 (DenseFlipou (None, 100)               20100     \n",
            "_________________________________________________________________\n",
            "dense_flipout_2 (DenseFlipou (None, 10)                2010      \n",
            "=================================================================\n",
            "Total params: 235,554\n",
            "Trainable params: 235,554\n",
            "Non-trainable params: 0\n",
            "_________________________________________________________________\n"
          ],
          "name": "stdout"
        }
      ]
    },
    {
      "cell_type": "code",
      "metadata": {
        "colab": {
          "base_uri": "https://localhost:8080/"
        },
        "id": "cd-H4DsQl4bN",
        "outputId": "473e59e8-8e12-4422-b5a7-beceaa2bd3a4"
      },
      "source": [
        "epochs=100\n",
        "# from keras import backend as K\n",
        "# K.set_value(model_vi.optimizer.learning_rate, 0.005)\n",
        "model_vi.fit(train_dataset,epochs=epochs,batch_size=32,validation_data=test_dataset)\n",
        "# model_vi.save('BCNN_cf10.h5') "
      ],
      "execution_count": 15,
      "outputs": [
        {
          "output_type": "stream",
          "text": [
            "Epoch 1/100\n",
            "782/782 [==============================] - 157s 196ms/step - loss: 7.3643 - accuracy: 0.2651 - val_loss: 6.6234 - val_accuracy: 0.3557\n",
            "Epoch 2/100\n",
            "782/782 [==============================] - 157s 200ms/step - loss: 6.1298 - accuracy: 0.4050 - val_loss: 5.7195 - val_accuracy: 0.4306\n",
            "Epoch 3/100\n",
            "782/782 [==============================] - 160s 204ms/step - loss: 5.4035 - accuracy: 0.4531 - val_loss: 5.1232 - val_accuracy: 0.4709\n",
            "Epoch 4/100\n",
            "782/782 [==============================] - 161s 206ms/step - loss: 4.9047 - accuracy: 0.4791 - val_loss: 4.7179 - val_accuracy: 0.4830\n",
            "Epoch 5/100\n",
            "782/782 [==============================] - 160s 204ms/step - loss: 4.5471 - accuracy: 0.5011 - val_loss: 4.4189 - val_accuracy: 0.5006\n",
            "Epoch 6/100\n",
            "782/782 [==============================] - 159s 203ms/step - loss: 4.2697 - accuracy: 0.5183 - val_loss: 4.1938 - val_accuracy: 0.5114\n",
            "Epoch 7/100\n",
            "782/782 [==============================] - 160s 204ms/step - loss: 4.0522 - accuracy: 0.5356 - val_loss: 4.0004 - val_accuracy: 0.5185\n",
            "Epoch 8/100\n",
            "782/782 [==============================] - 159s 204ms/step - loss: 3.8672 - accuracy: 0.5501 - val_loss: 3.8418 - val_accuracy: 0.5357\n",
            "Epoch 9/100\n",
            "782/782 [==============================] - 160s 205ms/step - loss: 3.7026 - accuracy: 0.5622 - val_loss: 3.6941 - val_accuracy: 0.5437\n",
            "Epoch 10/100\n",
            "782/782 [==============================] - 158s 202ms/step - loss: 3.5580 - accuracy: 0.5716 - val_loss: 3.5750 - val_accuracy: 0.5473\n",
            "Epoch 11/100\n",
            "782/782 [==============================] - 157s 201ms/step - loss: 3.4243 - accuracy: 0.5780 - val_loss: 3.4354 - val_accuracy: 0.5538\n",
            "Epoch 12/100\n",
            "782/782 [==============================] - 159s 203ms/step - loss: 3.2983 - accuracy: 0.5869 - val_loss: 3.3090 - val_accuracy: 0.5634\n",
            "Epoch 13/100\n",
            "782/782 [==============================] - 158s 202ms/step - loss: 3.1826 - accuracy: 0.5939 - val_loss: 3.2136 - val_accuracy: 0.5705\n",
            "Epoch 14/100\n",
            "782/782 [==============================] - 160s 205ms/step - loss: 3.0829 - accuracy: 0.5990 - val_loss: 3.1138 - val_accuracy: 0.5773\n",
            "Epoch 15/100\n",
            "782/782 [==============================] - 161s 206ms/step - loss: 2.9910 - accuracy: 0.6045 - val_loss: 3.0502 - val_accuracy: 0.5744\n",
            "Epoch 16/100\n",
            "782/782 [==============================] - 159s 203ms/step - loss: 2.8994 - accuracy: 0.6100 - val_loss: 2.9586 - val_accuracy: 0.5797\n",
            "Epoch 17/100\n",
            "782/782 [==============================] - 160s 205ms/step - loss: 2.8197 - accuracy: 0.6142 - val_loss: 2.8621 - val_accuracy: 0.5875\n",
            "Epoch 18/100\n",
            "782/782 [==============================] - 160s 205ms/step - loss: 2.7481 - accuracy: 0.6179 - val_loss: 2.7993 - val_accuracy: 0.5932\n",
            "Epoch 19/100\n",
            "782/782 [==============================] - 162s 207ms/step - loss: 2.6675 - accuracy: 0.6226 - val_loss: 2.7463 - val_accuracy: 0.5881\n",
            "Epoch 20/100\n",
            "782/782 [==============================] - 162s 207ms/step - loss: 2.6036 - accuracy: 0.6251 - val_loss: 2.6856 - val_accuracy: 0.5900\n",
            "Epoch 21/100\n",
            "782/782 [==============================] - 162s 207ms/step - loss: 2.5406 - accuracy: 0.6299 - val_loss: 2.6183 - val_accuracy: 0.5932\n",
            "Epoch 22/100\n",
            "782/782 [==============================] - 159s 203ms/step - loss: 2.4812 - accuracy: 0.6323 - val_loss: 2.5568 - val_accuracy: 0.6016\n",
            "Epoch 23/100\n",
            "782/782 [==============================] - 163s 209ms/step - loss: 2.4267 - accuracy: 0.6359 - val_loss: 2.5234 - val_accuracy: 0.5948\n",
            "Epoch 24/100\n",
            "782/782 [==============================] - 164s 210ms/step - loss: 2.3764 - accuracy: 0.6361 - val_loss: 2.4749 - val_accuracy: 0.6060\n",
            "Epoch 25/100\n",
            "782/782 [==============================] - 163s 209ms/step - loss: 2.3281 - accuracy: 0.6381 - val_loss: 2.4191 - val_accuracy: 0.6060\n",
            "Epoch 26/100\n",
            "782/782 [==============================] - 162s 207ms/step - loss: 2.2769 - accuracy: 0.6425 - val_loss: 2.3845 - val_accuracy: 0.6053\n",
            "Epoch 27/100\n",
            "782/782 [==============================] - 162s 207ms/step - loss: 2.2409 - accuracy: 0.6427 - val_loss: 2.3415 - val_accuracy: 0.6077\n",
            "Epoch 28/100\n",
            "782/782 [==============================] - 161s 206ms/step - loss: 2.1931 - accuracy: 0.6476 - val_loss: 2.2944 - val_accuracy: 0.6096\n",
            "Epoch 29/100\n",
            "782/782 [==============================] - 162s 208ms/step - loss: 2.1514 - accuracy: 0.6497 - val_loss: 2.2596 - val_accuracy: 0.6097\n",
            "Epoch 30/100\n",
            "782/782 [==============================] - 161s 205ms/step - loss: 2.1153 - accuracy: 0.6510 - val_loss: 2.2357 - val_accuracy: 0.6127\n",
            "Epoch 31/100\n",
            "782/782 [==============================] - 164s 209ms/step - loss: 2.0855 - accuracy: 0.6513 - val_loss: 2.1867 - val_accuracy: 0.6181\n",
            "Epoch 32/100\n",
            "782/782 [==============================] - 165s 210ms/step - loss: 2.0519 - accuracy: 0.6515 - val_loss: 2.1749 - val_accuracy: 0.6127\n",
            "Epoch 33/100\n",
            "782/782 [==============================] - 165s 210ms/step - loss: 2.0141 - accuracy: 0.6544 - val_loss: 2.1276 - val_accuracy: 0.6163\n",
            "Epoch 34/100\n",
            "782/782 [==============================] - 165s 210ms/step - loss: 1.9850 - accuracy: 0.6567 - val_loss: 2.0942 - val_accuracy: 0.6126\n",
            "Epoch 35/100\n",
            "782/782 [==============================] - 162s 206ms/step - loss: 1.9526 - accuracy: 0.6595 - val_loss: 2.0679 - val_accuracy: 0.6224\n",
            "Epoch 36/100\n",
            "782/782 [==============================] - 162s 207ms/step - loss: 1.9270 - accuracy: 0.6565 - val_loss: 2.0391 - val_accuracy: 0.6207\n",
            "Epoch 37/100\n",
            "782/782 [==============================] - 164s 210ms/step - loss: 1.9013 - accuracy: 0.6591 - val_loss: 2.0239 - val_accuracy: 0.6179\n",
            "Epoch 38/100\n",
            "782/782 [==============================] - 164s 209ms/step - loss: 1.8738 - accuracy: 0.6630 - val_loss: 2.0121 - val_accuracy: 0.6172\n",
            "Epoch 39/100\n",
            "782/782 [==============================] - 165s 211ms/step - loss: 1.8499 - accuracy: 0.6636 - val_loss: 1.9663 - val_accuracy: 0.6236\n",
            "Epoch 40/100\n",
            "782/782 [==============================] - 163s 208ms/step - loss: 1.8309 - accuracy: 0.6621 - val_loss: 1.9411 - val_accuracy: 0.6280\n",
            "Epoch 41/100\n",
            "782/782 [==============================] - 165s 210ms/step - loss: 1.8087 - accuracy: 0.6639 - val_loss: 1.9384 - val_accuracy: 0.6250\n",
            "Epoch 42/100\n",
            "782/782 [==============================] - 164s 210ms/step - loss: 1.7886 - accuracy: 0.6673 - val_loss: 1.9368 - val_accuracy: 0.6136\n",
            "Epoch 43/100\n",
            "782/782 [==============================] - 164s 210ms/step - loss: 1.7647 - accuracy: 0.6676 - val_loss: 1.9204 - val_accuracy: 0.6188\n",
            "Epoch 44/100\n",
            "782/782 [==============================] - 164s 209ms/step - loss: 1.7440 - accuracy: 0.6680 - val_loss: 1.8749 - val_accuracy: 0.6290\n",
            "Epoch 45/100\n",
            "782/782 [==============================] - 163s 208ms/step - loss: 1.7293 - accuracy: 0.6664 - val_loss: 1.8801 - val_accuracy: 0.6227\n",
            "Epoch 46/100\n",
            "782/782 [==============================] - 163s 208ms/step - loss: 1.7128 - accuracy: 0.6698 - val_loss: 1.8441 - val_accuracy: 0.6237\n",
            "Epoch 47/100\n",
            "782/782 [==============================] - 163s 208ms/step - loss: 1.6960 - accuracy: 0.6692 - val_loss: 1.8558 - val_accuracy: 0.6175\n",
            "Epoch 48/100\n",
            "782/782 [==============================] - 163s 208ms/step - loss: 1.6775 - accuracy: 0.6706 - val_loss: 1.7970 - val_accuracy: 0.6313\n",
            "Epoch 49/100\n",
            "782/782 [==============================] - 164s 209ms/step - loss: 1.6625 - accuracy: 0.6702 - val_loss: 1.7855 - val_accuracy: 0.6400\n",
            "Epoch 50/100\n",
            "782/782 [==============================] - 163s 209ms/step - loss: 1.6467 - accuracy: 0.6711 - val_loss: 1.7742 - val_accuracy: 0.6317\n",
            "Epoch 51/100\n",
            "782/782 [==============================] - 163s 209ms/step - loss: 1.6341 - accuracy: 0.6720 - val_loss: 1.7777 - val_accuracy: 0.6278\n",
            "Epoch 52/100\n",
            "782/782 [==============================] - 164s 210ms/step - loss: 1.6195 - accuracy: 0.6725 - val_loss: 1.7462 - val_accuracy: 0.6323\n",
            "Epoch 53/100\n",
            "782/782 [==============================] - 165s 211ms/step - loss: 1.6082 - accuracy: 0.6710 - val_loss: 1.7213 - val_accuracy: 0.6372\n",
            "Epoch 54/100\n",
            "782/782 [==============================] - 165s 211ms/step - loss: 1.5940 - accuracy: 0.6748 - val_loss: 1.7329 - val_accuracy: 0.6319\n",
            "Epoch 55/100\n",
            "782/782 [==============================] - 162s 208ms/step - loss: 1.5835 - accuracy: 0.6727 - val_loss: 1.7127 - val_accuracy: 0.6362\n",
            "Epoch 56/100\n",
            "782/782 [==============================] - 166s 213ms/step - loss: 1.5696 - accuracy: 0.6767 - val_loss: 1.7053 - val_accuracy: 0.6364\n",
            "Epoch 57/100\n",
            "782/782 [==============================] - 166s 213ms/step - loss: 1.5605 - accuracy: 0.6738 - val_loss: 1.6887 - val_accuracy: 0.6348\n",
            "Epoch 58/100\n",
            "782/782 [==============================] - 167s 213ms/step - loss: 1.5459 - accuracy: 0.6751 - val_loss: 1.6612 - val_accuracy: 0.6410\n",
            "Epoch 59/100\n",
            "782/782 [==============================] - 166s 212ms/step - loss: 1.5438 - accuracy: 0.6736 - val_loss: 1.6820 - val_accuracy: 0.6323\n",
            "Epoch 60/100\n",
            "782/782 [==============================] - 166s 212ms/step - loss: 1.5269 - accuracy: 0.6785 - val_loss: 1.6689 - val_accuracy: 0.6340\n",
            "Epoch 61/100\n",
            "782/782 [==============================] - 165s 211ms/step - loss: 1.5220 - accuracy: 0.6722 - val_loss: 1.6446 - val_accuracy: 0.6410\n",
            "Epoch 62/100\n",
            "782/782 [==============================] - 165s 211ms/step - loss: 1.5053 - accuracy: 0.6773 - val_loss: 1.6578 - val_accuracy: 0.6346\n",
            "Epoch 63/100\n",
            "782/782 [==============================] - 166s 212ms/step - loss: 1.5011 - accuracy: 0.6747 - val_loss: 1.6450 - val_accuracy: 0.6345\n",
            "Epoch 64/100\n",
            "782/782 [==============================] - 166s 212ms/step - loss: 1.4915 - accuracy: 0.6782 - val_loss: 1.6321 - val_accuracy: 0.6406\n",
            "Epoch 65/100\n",
            "782/782 [==============================] - 166s 212ms/step - loss: 1.4886 - accuracy: 0.6772 - val_loss: 1.6119 - val_accuracy: 0.6414\n",
            "Epoch 66/100\n",
            "782/782 [==============================] - 164s 210ms/step - loss: 1.4723 - accuracy: 0.6806 - val_loss: 1.5966 - val_accuracy: 0.6473\n",
            "Epoch 67/100\n",
            "782/782 [==============================] - 165s 210ms/step - loss: 1.4693 - accuracy: 0.6794 - val_loss: 1.6113 - val_accuracy: 0.6395\n",
            "Epoch 68/100\n",
            "782/782 [==============================] - 168s 214ms/step - loss: 1.4655 - accuracy: 0.6793 - val_loss: 1.6116 - val_accuracy: 0.6300\n",
            "Epoch 69/100\n",
            "782/782 [==============================] - 167s 213ms/step - loss: 1.4589 - accuracy: 0.6779 - val_loss: 1.6003 - val_accuracy: 0.6380\n",
            "Epoch 70/100\n",
            "782/782 [==============================] - 166s 212ms/step - loss: 1.4508 - accuracy: 0.6815 - val_loss: 1.5869 - val_accuracy: 0.6383\n",
            "Epoch 71/100\n",
            "782/782 [==============================] - 165s 211ms/step - loss: 1.4378 - accuracy: 0.6795 - val_loss: 1.5637 - val_accuracy: 0.6413\n",
            "Epoch 72/100\n",
            "782/782 [==============================] - 164s 209ms/step - loss: 1.4316 - accuracy: 0.6804 - val_loss: 1.5750 - val_accuracy: 0.6393\n",
            "Epoch 73/100\n",
            "782/782 [==============================] - 164s 210ms/step - loss: 1.4295 - accuracy: 0.6802 - val_loss: 1.5542 - val_accuracy: 0.6410\n",
            "Epoch 74/100\n",
            "782/782 [==============================] - 165s 211ms/step - loss: 1.4304 - accuracy: 0.6786 - val_loss: 1.5582 - val_accuracy: 0.6410\n",
            "Epoch 75/100\n",
            "782/782 [==============================] - 165s 211ms/step - loss: 1.4202 - accuracy: 0.6793 - val_loss: 1.5376 - val_accuracy: 0.6469\n",
            "Epoch 76/100\n",
            "782/782 [==============================] - 165s 211ms/step - loss: 1.4130 - accuracy: 0.6830 - val_loss: 1.5611 - val_accuracy: 0.6386\n",
            "Epoch 77/100\n",
            "782/782 [==============================] - 165s 211ms/step - loss: 1.4079 - accuracy: 0.6823 - val_loss: 1.5292 - val_accuracy: 0.6412\n",
            "Epoch 78/100\n",
            "782/782 [==============================] - 165s 211ms/step - loss: 1.4008 - accuracy: 0.6823 - val_loss: 1.5169 - val_accuracy: 0.6448\n",
            "Epoch 79/100\n",
            "782/782 [==============================] - 167s 213ms/step - loss: 1.3927 - accuracy: 0.6822 - val_loss: 1.5328 - val_accuracy: 0.6399\n",
            "Epoch 80/100\n",
            "782/782 [==============================] - 165s 211ms/step - loss: 1.3956 - accuracy: 0.6798 - val_loss: 1.5236 - val_accuracy: 0.6411\n",
            "Epoch 81/100\n",
            "782/782 [==============================] - 165s 211ms/step - loss: 1.3918 - accuracy: 0.6813 - val_loss: 1.5038 - val_accuracy: 0.6418\n",
            "Epoch 82/100\n",
            "782/782 [==============================] - 165s 211ms/step - loss: 1.3825 - accuracy: 0.6823 - val_loss: 1.5277 - val_accuracy: 0.6411\n",
            "Epoch 83/100\n",
            "782/782 [==============================] - 165s 211ms/step - loss: 1.3797 - accuracy: 0.6797 - val_loss: 1.5004 - val_accuracy: 0.6480\n",
            "Epoch 84/100\n",
            "782/782 [==============================] - 166s 212ms/step - loss: 1.3707 - accuracy: 0.6837 - val_loss: 1.5157 - val_accuracy: 0.6432\n",
            "Epoch 85/100\n",
            "782/782 [==============================] - 165s 212ms/step - loss: 1.3746 - accuracy: 0.6840 - val_loss: 1.4995 - val_accuracy: 0.6439\n",
            "Epoch 86/100\n",
            "782/782 [==============================] - 166s 212ms/step - loss: 1.3670 - accuracy: 0.6837 - val_loss: 1.5295 - val_accuracy: 0.6432\n",
            "Epoch 87/100\n",
            "782/782 [==============================] - 165s 211ms/step - loss: 1.3630 - accuracy: 0.6819 - val_loss: 1.5103 - val_accuracy: 0.6427\n",
            "Epoch 88/100\n",
            "782/782 [==============================] - 166s 212ms/step - loss: 1.3550 - accuracy: 0.6848 - val_loss: 1.4713 - val_accuracy: 0.6534\n",
            "Epoch 89/100\n",
            "782/782 [==============================] - 165s 212ms/step - loss: 1.3599 - accuracy: 0.6808 - val_loss: 1.4945 - val_accuracy: 0.6411\n",
            "Epoch 90/100\n",
            "782/782 [==============================] - 166s 212ms/step - loss: 1.3505 - accuracy: 0.6840 - val_loss: 1.4796 - val_accuracy: 0.6456\n",
            "Epoch 91/100\n",
            "782/782 [==============================] - 164s 210ms/step - loss: 1.3521 - accuracy: 0.6824 - val_loss: 1.4839 - val_accuracy: 0.6539\n",
            "Epoch 92/100\n",
            "782/782 [==============================] - 164s 209ms/step - loss: 1.3852 - accuracy: 0.6760 - val_loss: 1.5244 - val_accuracy: 0.6329\n",
            "Epoch 93/100\n",
            "782/782 [==============================] - 164s 209ms/step - loss: 1.3543 - accuracy: 0.6793 - val_loss: 1.4669 - val_accuracy: 0.6505\n",
            "Epoch 94/100\n",
            "782/782 [==============================] - 165s 211ms/step - loss: 1.3385 - accuracy: 0.6864 - val_loss: 1.4641 - val_accuracy: 0.6461\n",
            "Epoch 95/100\n",
            "782/782 [==============================] - 163s 209ms/step - loss: 1.3403 - accuracy: 0.6833 - val_loss: 1.4883 - val_accuracy: 0.6462\n",
            "Epoch 96/100\n",
            "782/782 [==============================] - 164s 209ms/step - loss: 1.3355 - accuracy: 0.6845 - val_loss: 1.4481 - val_accuracy: 0.6522\n",
            "Epoch 97/100\n",
            "782/782 [==============================] - 163s 209ms/step - loss: 1.3341 - accuracy: 0.6854 - val_loss: 1.4579 - val_accuracy: 0.6461\n",
            "Epoch 98/100\n",
            "782/782 [==============================] - 166s 212ms/step - loss: 1.3329 - accuracy: 0.6860 - val_loss: 1.4532 - val_accuracy: 0.6441\n",
            "Epoch 99/100\n",
            "782/782 [==============================] - 164s 209ms/step - loss: 1.3294 - accuracy: 0.6845 - val_loss: 1.4449 - val_accuracy: 0.6560\n",
            "Epoch 100/100\n",
            "782/782 [==============================] - 163s 209ms/step - loss: 1.3258 - accuracy: 0.6852 - val_loss: 1.4412 - val_accuracy: 0.6534\n"
          ],
          "name": "stdout"
        },
        {
          "output_type": "execute_result",
          "data": {
            "text/plain": [
              "<tensorflow.python.keras.callbacks.History at 0x7f1c27a33410>"
            ]
          },
          "metadata": {
            "tags": []
          },
          "execution_count": 15
        }
      ]
    },
    {
      "cell_type": "code",
      "metadata": {
        "id": "f7bEeYQ3YN71",
        "colab": {
          "base_uri": "https://localhost:8080/",
          "height": 122,
          "referenced_widgets": [
            "808c51334b7f4af59503c092416c368b",
            "550633ee3b564cd5b3c49cea05537b62",
            "f9ebad540eab49088c99e99491d8380c",
            "bf0f4bdc7b5242d3b32972123b37517f",
            "c72b6265a16543149540537ca783be17",
            "6732f7bb037d4d0b9a35c2a8c1dd9ceb",
            "035e403a09b64e94b0bbcd629365ce49",
            "be5b962f2519400c93e2d37eefe65622"
          ]
        },
        "outputId": "2d2e16dd-cef1-4c7f-c884-ede59c6d0da0"
      },
      "source": [
        "\n",
        "labels=np.array([\"airplane\",\"automobile\",\"bird\",\"cat\",\"deer\",\"dog\",\"frog\",\"horse\",\"ship\",\"truck\"])\n",
        "\n",
        "pred_vi=np.zeros((len(x_test),10))\n",
        "pred_max_p_vi=np.zeros((len(x_test)))\n",
        "pred_std_vi=np.zeros((len(x_test)))\n",
        "entropy_vi = np.zeros((len(x_test)))\n",
        "\n",
        "for i in tqdm(range(0,len(x_test))):\n",
        "  multi_img=np.tile(x_test[i]/255,(50,1,1,1))\n",
        "  preds=model_vi.predict(multi_img)\n",
        "  pred_vi[i]=np.mean(preds,axis=0)#mean over n runs of every proba class\n",
        "  pred_max_p_vi[i]=np.argmax(np.mean(preds,axis=0))#mean over n runs of every proba class\n",
        "  pred_std_vi[i]= np.sqrt(np.sum(np.var(preds, axis=0)))\n",
        "  entropy_vi[i] = -np.sum( pred_vi[i] * np.log2(pred_vi[i] + 1E-14)) #Numerical Stability\n",
        "pred_labels_vi=np.array([labels[np.argmax(pred_vi[i])] for i in range(0,len(pred_vi))])\n",
        "pred_vi_mean_max_p=np.array([pred_vi[i][np.argmax(pred_vi[i])] for i in range(0,len(pred_vi))])\n",
        "nll_vi=-np.log(pred_vi_mean_max_p)"
      ],
      "execution_count": 41,
      "outputs": [
        {
          "output_type": "stream",
          "text": [
            "/usr/local/lib/python3.7/dist-packages/ipykernel_launcher.py:9: TqdmDeprecationWarning: This function will be removed in tqdm==5.0.0\n",
            "Please use `tqdm.notebook.tqdm` instead of `tqdm.tqdm_notebook`\n",
            "  if __name__ == '__main__':\n"
          ],
          "name": "stderr"
        },
        {
          "output_type": "display_data",
          "data": {
            "application/vnd.jupyter.widget-view+json": {
              "model_id": "808c51334b7f4af59503c092416c368b",
              "version_minor": 0,
              "version_major": 2
            },
            "text/plain": [
              "HBox(children=(FloatProgress(value=0.0, max=10000.0), HTML(value='')))"
            ]
          },
          "metadata": {
            "tags": []
          }
        },
        {
          "output_type": "stream",
          "text": [
            "\n"
          ],
          "name": "stdout"
        }
      ]
    },
    {
      "cell_type": "code",
      "metadata": {
        "id": "SdlZzWMQekch",
        "colab": {
          "base_uri": "https://localhost:8080/"
        },
        "outputId": "1f906352-20fe-4731-eb2b-bfda06f87324"
      },
      "source": [
        "true_labels=np.array([labels[np.argmax(y_test[i])] for i in range(0,len(y_test))])\n",
        "test_acc_all_vi=np.average(true_labels==pred_labels_vi)\n",
        "test_acc_all_vi"
      ],
      "execution_count": 42,
      "outputs": [
        {
          "output_type": "execute_result",
          "data": {
            "text/plain": [
              "0.699"
            ]
          },
          "metadata": {
            "tags": []
          },
          "execution_count": 42
        }
      ]
    },
    {
      "cell_type": "code",
      "metadata": {
        "id": "Gs2pdDZNlFNK"
      },
      "source": [
        "def plot_hists(dist, title, xlabel, xlim=None):\n",
        "    plt.hist(dist[range(0,len(x_test))],bins=30, density=True,alpha = 0.7)\n",
        "    # plt.hist(dist[known_idx],bins=30,  density=True,alpha = 0.7)\n",
        "    plt.title(title)\n",
        "    # plt.legend(['unknown','known'])\n",
        "    plt.xlabel(xlabel)\n",
        "    if xlim != None:\n",
        "        plt.xlim(xlim)"
      ],
      "execution_count": 43,
      "outputs": []
    },
    {
      "cell_type": "code",
      "metadata": {
        "id": "SwAvoY-9k6HE",
        "colab": {
          "base_uri": "https://localhost:8080/",
          "height": 366
        },
        "outputId": "d7201695-b1ae-4623-bb29-50cbb3bdc35b"
      },
      "source": [
        "plt.figure(figsize=(18,18))\n",
        "plt.subplot(3,3,4)\n",
        "plot_hists(nll_vi, \"VI nll of max p\", \"NLL\", [-0.2,2])\n",
        "plt.subplot(3,3,5)\n",
        "plot_hists(pred_std_vi, \"VI std dev.\", \"std\", [-0.2,0.8])\n",
        "plt.subplot(3,3,6)\n",
        "plot_hists(entropy_vi, \"VI entropy\", \"Entropy\", [-0.2,3.2])"
      ],
      "execution_count": 44,
      "outputs": [
        {
          "output_type": "display_data",
          "data": {
            "image/png": "[encoded data removed]",
            "text/plain": [
              "<Figure size 1296x1296 with 3 Axes>"
            ]
          },
          "metadata": {
            "tags": [],
            "needs_background": "light"
          }
        }
      ]
    },
    {
      "cell_type": "code",
      "metadata": {
        "id": "PGsL3ws_m8ad"
      },
      "source": [
        "  multi_img=np.tile(x_test[0],(1,1,1,1))\n"
      ],
      "execution_count": 23,
      "outputs": []
    },
    {
      "cell_type": "code",
      "metadata": {
        "id": "vJVeCt8XnM_O"
      },
      "source": [
        "test_in = x_test[0]/255\n",
        "\n",
        "test_in.shape = (1,) + x_test[0].shape "
      ],
      "execution_count": 45,
      "outputs": []
    },
    {
      "cell_type": "code",
      "metadata": {
        "id": "8dLdZquZpEqa",
        "colab": {
          "base_uri": "https://localhost:8080/"
        },
        "outputId": "ada07ec3-f14f-4e59-ab23-e84a2bd2c783"
      },
      "source": [
        "test_in.shape"
      ],
      "execution_count": 46,
      "outputs": [
        {
          "output_type": "execute_result",
          "data": {
            "text/plain": [
              "(1, 32, 32, 3)"
            ]
          },
          "metadata": {
            "tags": []
          },
          "execution_count": 46
        }
      ]
    },
    {
      "cell_type": "code",
      "metadata": {
        "id": "yXow36h0muKL"
      },
      "source": [
        "preds_1=model_vi.predict(test_in)"
      ],
      "execution_count": 47,
      "outputs": []
    },
    {
      "cell_type": "code",
      "metadata": {
        "id": "WD_epoWjnakv",
        "colab": {
          "base_uri": "https://localhost:8080/"
        },
        "outputId": "39197e80-c502-4f9e-a54b-2154db34c9e8"
      },
      "source": [
        "preds_1"
      ],
      "execution_count": 48,
      "outputs": [
        {
          "output_type": "execute_result",
          "data": {
            "text/plain": [
              "array([[5.3926726e-04, 3.7848260e-04, 7.6155523e-03, 5.1037204e-01,\n",
              "        4.1819359e-03, 4.5107877e-01, 1.1861167e-02, 1.1451225e-02,\n",
              "        1.9883574e-03, 5.3323217e-04]], dtype=float32)"
            ]
          },
          "metadata": {
            "tags": []
          },
          "execution_count": 48
        }
      ]
    },
    {
      "cell_type": "code",
      "metadata": {
        "id": "64B5NZ54pzKv"
      },
      "source": [
        "x=np.zeros(shape=(100,10))\n",
        "for i in range(100):\n",
        "  x[i] = model_vi.predict(test_in)\n"
      ],
      "execution_count": 49,
      "outputs": []
    },
    {
      "cell_type": "code",
      "metadata": {
        "id": "brlUWT5Ovsbd",
        "colab": {
          "base_uri": "https://localhost:8080/"
        },
        "outputId": "fd7eb94b-9d7d-44ac-8ebc-c25e87ece7d2"
      },
      "source": [
        "x"
      ],
      "execution_count": 51,
      "outputs": [
        {
          "output_type": "execute_result",
          "data": {
            "text/plain": [
              "array([[2.20305682e-03, 1.48566358e-03, 7.19584245e-03, 5.34177244e-01,\n",
              "        8.90203752e-03, 3.61849010e-01, 3.13240923e-02, 1.18124066e-02,\n",
              "        3.72299887e-02, 3.82059696e-03],\n",
              "       [3.72865907e-04, 1.64219178e-04, 2.85759196e-03, 4.98290926e-01,\n",
              "        1.10861601e-03, 4.77194428e-01, 7.93695729e-03, 8.57887324e-03,\n",
              "        3.34845646e-03, 1.47087674e-04],\n",
              "       [9.99531243e-04, 7.15588743e-04, 3.48326820e-03, 4.67317700e-01,\n",
              "        1.50014076e-03, 4.98600304e-01, 1.15173990e-02, 1.30487727e-02,\n",
              "        2.34506000e-03, 4.72262240e-04],\n",
              "       [1.55588810e-03, 1.19505590e-03, 3.13130650e-03, 4.61456537e-01,\n",
              "        7.52171408e-03, 2.76026458e-01, 7.77968243e-02, 4.68490794e-02,\n",
              "        1.23211518e-01, 1.25555776e-03],\n",
              "       [1.28600601e-04, 1.90547202e-04, 2.33344571e-03, 6.36125207e-01,\n",
              "        7.14276161e-04, 3.46243232e-01, 1.15994317e-02, 1.85773557e-03,\n",
              "        2.32742939e-04, 5.74826030e-04],\n",
              "       [1.48850051e-03, 4.09156579e-04, 7.33452849e-03, 5.49850762e-01,\n",
              "        1.28082894e-02, 3.86173397e-01, 7.72261154e-03, 1.09752463e-02,\n",
              "        2.27667782e-02, 4.70794417e-04],\n",
              "       [7.38948933e-04, 3.09954444e-03, 1.18458746e-02, 6.77328289e-01,\n",
              "        1.66792776e-02, 1.85819015e-01, 7.40186796e-02, 3.27706384e-03,\n",
              "        1.56229492e-02, 1.15702404e-02],\n",
              "       [7.85991841e-04, 2.49374250e-04, 2.33491864e-02, 7.29653955e-01,\n",
              "        2.53455620e-03, 1.83964938e-01, 3.68471146e-02, 1.13723595e-02,\n",
              "        1.07688336e-02, 4.73742344e-04],\n",
              "       [1.09152589e-03, 3.01943684e-04, 1.34677114e-02, 4.59849685e-01,\n",
              "        1.48556277e-03, 5.08078694e-01, 5.61934244e-03, 8.58848076e-03,\n",
              "        1.07864256e-03, 4.38415533e-04],\n",
              "       [1.43212033e-03, 3.31557712e-05, 3.45176421e-02, 2.41033554e-01,\n",
              "        9.73630056e-04, 5.97803652e-01, 3.41976434e-02, 5.75613156e-02,\n",
              "        3.19122002e-02, 5.35110594e-04],\n",
              "       [1.62735407e-04, 1.34755130e-04, 4.09261556e-03, 6.16244256e-01,\n",
              "        2.69882823e-03, 3.61550808e-01, 1.21500799e-02, 2.34657782e-03,\n",
              "        4.44286910e-04, 1.75090332e-04],\n",
              "       [3.78120094e-05, 5.92467550e-05, 6.86639315e-03, 5.94063699e-01,\n",
              "        1.67674932e-03, 3.77760589e-01, 1.77644845e-02, 1.43195002e-03,\n",
              "        2.38224020e-04, 1.00939586e-04],\n",
              "       [2.43861141e-04, 1.49222804e-04, 2.91786343e-03, 6.31013334e-01,\n",
              "        9.31130431e-04, 2.99007714e-01, 6.23072796e-02, 1.58223638e-03,\n",
              "        1.59606314e-03, 2.51290272e-04],\n",
              "       [1.47569389e-03, 3.93748865e-04, 7.52792321e-03, 4.33883041e-01,\n",
              "        1.70516362e-03, 5.29717445e-01, 8.49146117e-03, 8.92995391e-03,\n",
              "        5.97528974e-03, 1.90021750e-03],\n",
              "       [1.04237588e-04, 6.47580891e-05, 9.26878420e-04, 4.06261206e-01,\n",
              "        1.31615694e-03, 5.82046628e-01, 6.66358182e-03, 2.41824472e-03,\n",
              "        1.28042739e-04, 7.02906182e-05],\n",
              "       [3.97864700e-04, 1.24028244e-04, 1.73910218e-03, 3.22885245e-01,\n",
              "        5.49657096e-04, 6.60700977e-01, 7.51588121e-03, 5.46304137e-03,\n",
              "        5.72059245e-04, 5.21436632e-05],\n",
              "       [2.88557308e-03, 1.15684932e-03, 5.77013660e-03, 4.58806008e-01,\n",
              "        1.02215959e-02, 4.46013331e-01, 6.02401346e-02, 7.27413641e-03,\n",
              "        4.99896891e-03, 2.63327430e-03],\n",
              "       [4.16161056e-04, 1.02595317e-04, 4.63952264e-03, 5.49810886e-01,\n",
              "        1.07596267e-03, 4.29247797e-01, 8.07773601e-03, 5.55048650e-03,\n",
              "        1.00889930e-03, 7.00266028e-05],\n",
              "       [3.25975299e-04, 6.19892206e-04, 4.75818990e-03, 5.52558243e-01,\n",
              "        1.39814417e-03, 3.78183514e-01, 5.62871732e-02, 2.87123630e-03,\n",
              "        1.85481389e-03, 1.14273571e-03],\n",
              "       [1.14070773e-02, 4.01770370e-03, 3.18250582e-02, 4.93820161e-01,\n",
              "        1.43509277e-03, 3.10414016e-01, 1.77651737e-02, 7.00906757e-03,\n",
              "        1.17928192e-01, 4.37843241e-03],\n",
              "       [9.53754352e-04, 3.93273833e-04, 8.01169593e-03, 5.01614034e-01,\n",
              "        5.83886076e-03, 3.48326057e-01, 1.15338825e-01, 1.69221144e-02,\n",
              "        1.31307857e-03, 1.28834462e-03],\n",
              "       [2.32452890e-04, 1.61442105e-04, 4.83551202e-03, 6.91114783e-01,\n",
              "        6.94606861e-04, 2.85481662e-01, 1.38054527e-02, 6.57338009e-04,\n",
              "        2.80437851e-03, 2.12287137e-04],\n",
              "       [5.64963184e-03, 6.45978726e-04, 1.08734081e-02, 4.37128931e-01,\n",
              "        2.88976287e-03, 4.78382081e-01, 3.82781476e-02, 1.49178654e-02,\n",
              "        1.01177907e-02, 1.11641141e-03],\n",
              "       [2.73679034e-04, 3.32264870e-04, 9.51236871e-04, 7.12296844e-01,\n",
              "        1.65367441e-04, 2.75129735e-01, 8.46059341e-03, 4.96600987e-04,\n",
              "        5.08345081e-04, 1.38535153e-03],\n",
              "       [2.47499882e-03, 1.54080975e-04, 2.41602622e-02, 5.21145642e-01,\n",
              "        2.63308897e-03, 3.93898398e-01, 1.94835477e-02, 1.46385655e-02,\n",
              "        2.05848552e-02, 8.26580974e-04],\n",
              "       [3.37052275e-04, 4.19511140e-04, 5.12188952e-03, 4.44892257e-01,\n",
              "        4.61468194e-03, 5.24410725e-01, 9.19591170e-03, 8.43869988e-03,\n",
              "        1.94484182e-03, 6.24353299e-04],\n",
              "       [1.29875471e-03, 1.65334076e-03, 4.92342096e-03, 6.40101612e-01,\n",
              "        4.81613068e-04, 2.58487403e-01, 6.60029724e-02, 3.22485180e-03,\n",
              "        1.74473338e-02, 6.37860270e-03],\n",
              "       [8.46340496e-04, 2.78030336e-03, 1.55582442e-03, 5.51577151e-01,\n",
              "        4.64180688e-04, 4.27421302e-01, 8.32723174e-03, 2.97080143e-04,\n",
              "        3.77632724e-03, 2.95431889e-03],\n",
              "       [9.40352387e-04, 4.07104992e-04, 7.67203467e-03, 6.97545171e-01,\n",
              "        4.83262731e-04, 2.39846572e-01, 3.91232781e-02, 4.99442639e-03,\n",
              "        8.64552986e-03, 3.42293759e-04],\n",
              "       [2.65939371e-03, 9.98851727e-04, 1.71026383e-02, 6.40987575e-01,\n",
              "        1.78507832e-03, 2.23148912e-01, 6.67673126e-02, 1.04502719e-02,\n",
              "        2.99696550e-02, 6.13036705e-03],\n",
              "       [6.53169292e-04, 3.06359609e-04, 2.72392388e-03, 4.28914040e-01,\n",
              "        2.15191161e-03, 5.55793345e-01, 3.42511013e-03, 5.00116404e-03,\n",
              "        5.60775923e-04, 4.70155879e-04],\n",
              "       [2.41611828e-03, 2.96678743e-04, 5.61225927e-03, 4.71132159e-01,\n",
              "        1.60135271e-03, 5.02669156e-01, 9.31372773e-03, 5.72514534e-03,\n",
              "        3.25543719e-04, 9.07854235e-04],\n",
              "       [2.31109982e-04, 1.43351441e-04, 7.75572797e-03, 4.68205780e-01,\n",
              "        3.62846791e-03, 4.61182803e-01, 4.18261290e-02, 1.27411634e-02,\n",
              "        3.75759020e-03, 5.27893135e-04],\n",
              "       [1.89350205e-04, 1.64633981e-04, 1.88191666e-03, 8.09188902e-01,\n",
              "        7.64317345e-04, 1.58220828e-01, 2.78211571e-02, 8.14190193e-04,\n",
              "        5.58013446e-04, 3.96786636e-04],\n",
              "       [1.05822505e-03, 1.06585224e-03, 4.35332023e-03, 3.65439147e-01,\n",
              "        1.09691615e-03, 5.84208488e-01, 1.38323987e-02, 3.05072404e-03,\n",
              "        2.52278373e-02, 6.67158340e-04],\n",
              "       [6.56851742e-04, 9.71521484e-04, 6.63540978e-03, 3.42958152e-01,\n",
              "        6.53770054e-03, 6.13893747e-01, 1.60661060e-02, 3.96656571e-03,\n",
              "        7.52212107e-03, 7.91848288e-04],\n",
              "       [5.47271047e-04, 5.95990976e-04, 4.67932830e-03, 4.38219130e-01,\n",
              "        1.25779468e-03, 5.33641815e-01, 1.65593605e-02, 2.57491204e-03,\n",
              "        9.12942574e-04, 1.01148745e-03],\n",
              "       [5.70021104e-04, 4.50337364e-04, 8.27270560e-03, 5.09895861e-01,\n",
              "        8.32566340e-03, 4.34045553e-01, 2.08690651e-02, 1.33493599e-02,\n",
              "        3.24526732e-03, 9.76119190e-04],\n",
              "       [3.27371061e-04, 2.63508526e-04, 9.11600515e-03, 8.88055265e-01,\n",
              "        2.05916600e-04, 7.91448131e-02, 2.09481381e-02, 6.92147587e-04,\n",
              "        8.65314039e-04, 3.81589343e-04],\n",
              "       [2.66640144e-03, 7.43739714e-04, 9.82941035e-03, 5.33979833e-01,\n",
              "        1.64232519e-03, 4.30580497e-01, 6.19189674e-03, 6.80131791e-03,\n",
              "        5.80935599e-03, 1.75520824e-03],\n",
              "       [9.06718895e-04, 1.84917904e-03, 1.11778826e-02, 7.92338908e-01,\n",
              "        2.53753061e-03, 1.56874284e-01, 1.75521877e-02, 3.96772521e-03,\n",
              "        6.20411290e-03, 6.59136102e-03],\n",
              "       [3.57745535e-04, 1.92676613e-04, 3.23030236e-03, 4.16990370e-01,\n",
              "        8.46664130e-04, 5.61795771e-01, 5.58523415e-03, 4.34949249e-03,\n",
              "        6.09086780e-03, 5.60882734e-04],\n",
              "       [1.31776545e-03, 4.96299588e-04, 3.72900162e-03, 6.77592099e-01,\n",
              "        3.58549616e-04, 2.97627032e-01, 1.20831002e-02, 2.16501323e-03,\n",
              "        2.16407911e-03, 2.46701343e-03],\n",
              "       [2.10216502e-03, 1.74753182e-03, 3.65908481e-02, 5.42032242e-01,\n",
              "        8.18048231e-03, 2.10298076e-01, 3.57485078e-02, 8.57937336e-03,\n",
              "        1.47615582e-01, 7.10523175e-03],\n",
              "       [3.47952649e-04, 5.47256554e-04, 6.20327285e-03, 5.70191920e-01,\n",
              "        5.83189446e-03, 3.50522995e-01, 5.11214808e-02, 1.28133986e-02,\n",
              "        1.73730450e-03, 6.82580343e-04],\n",
              "       [6.12951466e-04, 3.16012156e-04, 1.09609962e-02, 5.34158766e-01,\n",
              "        1.97317638e-03, 3.95760506e-01, 4.32624221e-02, 9.94786900e-03,\n",
              "        2.78252806e-03, 2.24714924e-04],\n",
              "       [1.05239777e-03, 1.12492812e-03, 2.16626399e-03, 5.32582641e-01,\n",
              "        3.46634450e-04, 4.48858649e-01, 8.01547617e-03, 3.51207308e-03,\n",
              "        9.72680107e-04, 1.36822555e-03],\n",
              "       [2.36425709e-04, 5.20362082e-05, 7.04484386e-03, 4.09966469e-01,\n",
              "        1.69113337e-03, 5.59878290e-01, 1.67205762e-02, 3.93388374e-03,\n",
              "        3.08837421e-04, 1.67414386e-04],\n",
              "       [6.85835548e-04, 1.20327473e-04, 3.49817961e-03, 6.29412115e-01,\n",
              "        1.53094603e-04, 3.55021447e-01, 7.60686398e-03, 1.62766664e-03,\n",
              "        1.64121180e-03, 2.33199054e-04],\n",
              "       [2.45250703e-04, 2.41040296e-04, 2.81539676e-03, 5.57470918e-01,\n",
              "        2.76081555e-04, 4.29763496e-01, 6.77978899e-03, 1.67356699e-03,\n",
              "        4.90533188e-04, 2.43941016e-04],\n",
              "       [1.12038702e-04, 7.82542702e-05, 2.84737418e-03, 2.82019973e-01,\n",
              "        5.33742190e-04, 7.06417859e-01, 1.92098075e-03, 5.65241743e-03,\n",
              "        2.06769357e-04, 2.10650353e-04],\n",
              "       [3.72070749e-03, 3.37395730e-04, 2.59971153e-02, 3.21077585e-01,\n",
              "        2.75036466e-04, 6.08603299e-01, 1.45153357e-02, 1.72852166e-02,\n",
              "        7.72118382e-03, 4.67138336e-04],\n",
              "       [8.38117849e-04, 2.08611297e-03, 1.02153132e-02, 7.11311936e-01,\n",
              "        5.31367864e-03, 1.41463220e-01, 1.18719094e-01, 1.55828288e-03,\n",
              "        4.90851095e-03, 3.58563010e-03],\n",
              "       [5.91248681e-05, 1.18941520e-04, 1.77048438e-03, 7.89240003e-01,\n",
              "        4.32739878e-04, 1.98531970e-01, 8.10203142e-03, 1.23760209e-03,\n",
              "        1.24282509e-04, 3.82806495e-04],\n",
              "       [4.33407928e-04, 1.15567993e-04, 4.30844817e-03, 6.17565334e-01,\n",
              "        2.93440185e-03, 2.32853442e-01, 1.36986226e-01, 3.79721308e-03,\n",
              "        4.30223765e-04, 5.75715094e-04],\n",
              "       [4.44333244e-04, 4.04882652e-04, 3.31954658e-03, 7.74408281e-01,\n",
              "        1.86649826e-03, 1.60369739e-01, 5.68888485e-02, 1.04391377e-03,\n",
              "        5.32841193e-04, 7.21109158e-04],\n",
              "       [6.09651033e-04, 4.77062073e-04, 4.24247095e-03, 5.23597300e-01,\n",
              "        2.91810808e-04, 4.57128495e-01, 8.79131258e-03, 2.32513668e-03,\n",
              "        1.73221680e-03, 8.04578303e-04],\n",
              "       [1.34547008e-03, 2.94308760e-04, 1.60429999e-02, 6.22987807e-01,\n",
              "        1.37361949e-02, 2.92799473e-01, 1.57641228e-02, 1.19913835e-02,\n",
              "        2.35560257e-02, 1.48225867e-03],\n",
              "       [1.09018270e-04, 1.58641225e-04, 1.81255792e-03, 6.81589484e-01,\n",
              "        6.10223680e-04, 3.11282068e-01, 3.01843486e-03, 7.42355711e-04,\n",
              "        3.73464340e-04, 3.03803361e-04],\n",
              "       [7.14749476e-05, 6.30395007e-05, 1.21245289e-03, 5.61675608e-01,\n",
              "        6.77655160e-04, 4.32863355e-01, 2.12937570e-03, 9.95288952e-04,\n",
              "        2.79491418e-04, 3.22200030e-05],\n",
              "       [5.33613602e-05, 3.41603918e-05, 1.81230973e-03, 4.43383753e-01,\n",
              "        7.10917462e-04, 5.48829794e-01, 3.16963950e-03, 1.79391971e-03,\n",
              "        1.63152203e-04, 4.89980630e-05],\n",
              "       [7.90968537e-04, 9.54042887e-04, 3.84646701e-03, 5.65840423e-01,\n",
              "        9.93734458e-04, 3.95575017e-01, 2.70108245e-02, 2.26477045e-03,\n",
              "        2.15302175e-03, 5.70825126e-04],\n",
              "       [2.29597348e-03, 4.57707734e-04, 1.84100084e-02, 5.88354707e-01,\n",
              "        7.12904520e-03, 3.46283883e-01, 1.06324060e-02, 2.06975862e-02,\n",
              "        4.36416361e-03, 1.37449359e-03],\n",
              "       [1.74020010e-04, 1.16844552e-04, 2.96109519e-03, 3.83444965e-01,\n",
              "        5.03651006e-03, 5.58746457e-01, 4.34027426e-02, 3.68458568e-03,\n",
              "        2.23296066e-03, 1.99848277e-04],\n",
              "       [1.16075249e-03, 5.98522194e-04, 3.25534726e-03, 6.09616756e-01,\n",
              "        8.40633817e-04, 3.67927074e-01, 5.23654418e-03, 8.57535657e-03,\n",
              "        1.90868939e-03, 8.80256935e-04],\n",
              "       [9.77077434e-05, 1.28463435e-04, 5.49574941e-03, 7.91252434e-01,\n",
              "        9.96234594e-04, 1.41310737e-01, 5.65983281e-02, 2.58587115e-03,\n",
              "        1.18040200e-03, 3.54093092e-04],\n",
              "       [9.90006738e-05, 7.70424886e-05, 7.92647712e-03, 7.39359677e-01,\n",
              "        6.91528374e-04, 2.10959375e-01, 3.22464220e-02, 8.98041006e-04,\n",
              "        7.59033440e-03, 1.52131819e-04],\n",
              "       [9.65079176e-04, 4.18335221e-05, 1.03915716e-02, 3.35206449e-01,\n",
              "        5.43162040e-03, 6.13184929e-01, 1.01009635e-02, 2.24865135e-02,\n",
              "        1.93045754e-03, 2.60658620e-04],\n",
              "       [1.16514500e-04, 5.88275492e-04, 2.58543459e-03, 6.72716856e-01,\n",
              "        1.02526601e-03, 2.49983832e-01, 6.83254898e-02, 1.99310365e-03,\n",
              "        2.24537356e-03, 4.19776130e-04],\n",
              "       [2.52250605e-03, 2.06122687e-03, 7.57457921e-03, 6.94525599e-01,\n",
              "        1.84633827e-03, 2.10164845e-01, 2.12253593e-02, 4.42562699e-02,\n",
              "        4.47235536e-03, 1.13509251e-02],\n",
              "       [3.11790063e-04, 5.20903908e-04, 6.45706151e-03, 7.06238031e-01,\n",
              "        5.07814810e-03, 2.37079903e-01, 3.33992615e-02, 2.37381691e-03,\n",
              "        5.42739499e-03, 3.11367516e-03],\n",
              "       [4.34111425e-04, 2.20939546e-04, 1.16338059e-02, 6.32456958e-01,\n",
              "        3.21459305e-03, 3.10415357e-01, 3.64713036e-02, 2.71116104e-03,\n",
              "        1.66695437e-03, 7.74793385e-04],\n",
              "       [1.24759192e-03, 1.53822300e-03, 6.19444344e-03, 7.48106658e-01,\n",
              "        3.72081733e-04, 2.23565385e-01, 8.23996309e-03, 2.37381319e-03,\n",
              "        1.40539336e-03, 6.95651211e-03],\n",
              "       [3.30387760e-04, 8.34600942e-04, 3.44163761e-03, 4.69497800e-01,\n",
              "        8.69342068e-04, 5.15909791e-01, 4.46098158e-03, 3.04427557e-03,\n",
              "        9.57190932e-04, 6.53983734e-04],\n",
              "       [2.06246448e-04, 3.57623649e-04, 6.59435289e-03, 3.32482606e-01,\n",
              "        2.07692268e-03, 6.43648624e-01, 4.11616825e-03, 8.62610620e-03,\n",
              "        1.60819944e-03, 2.83208588e-04],\n",
              "       [1.61762966e-03, 6.53855735e-04, 6.28963811e-03, 5.05095601e-01,\n",
              "        4.20110952e-03, 4.26979125e-01, 4.41370159e-02, 6.49781385e-03,\n",
              "        3.72103066e-03, 8.07293982e-04],\n",
              "       [6.83135295e-04, 1.25891049e-04, 8.52871686e-03, 2.90929675e-01,\n",
              "        1.37027521e-02, 6.40186906e-01, 1.27332574e-02, 2.99465377e-02,\n",
              "        2.48266337e-03, 6.80494355e-04],\n",
              "       [1.07799890e-04, 1.34917165e-04, 3.89327924e-03, 6.44143522e-01,\n",
              "        1.26278435e-03, 2.88017005e-01, 4.59655151e-02, 1.50572564e-02,\n",
              "        9.59178898e-04, 4.58789844e-04],\n",
              "       [1.58284244e-03, 1.54414307e-03, 8.47739168e-03, 5.23747921e-01,\n",
              "        1.26730138e-03, 4.10004139e-01, 6.21766737e-03, 2.32137926e-02,\n",
              "        1.38989510e-02, 1.00457007e-02],\n",
              "       [3.84119526e-03, 3.90112307e-03, 9.13287420e-03, 4.23199505e-01,\n",
              "        7.80632487e-04, 4.49719369e-01, 5.98887987e-02, 2.03962694e-03,\n",
              "        4.03379053e-02, 7.15907104e-03],\n",
              "       [7.91903399e-03, 6.12533884e-03, 5.25447167e-03, 1.80856764e-01,\n",
              "        3.47858574e-03, 4.27399874e-01, 1.51784131e-02, 1.62569229e-02,\n",
              "        3.22467953e-01, 1.50627140e-02],\n",
              "       [2.13236059e-03, 4.07963700e-04, 4.60566999e-03, 5.36008418e-01,\n",
              "        1.22626516e-04, 4.35903937e-01, 8.13020393e-03, 6.25386834e-03,\n",
              "        6.02548663e-03, 4.09458473e-04],\n",
              "       [1.50014035e-04, 2.86862865e-04, 1.49622059e-03, 3.66387457e-01,\n",
              "        2.74309074e-04, 5.95527649e-01, 3.31257693e-02, 1.76156615e-03,\n",
              "        7.81115261e-04, 2.09003992e-04],\n",
              "       [2.09709071e-03, 1.80491200e-03, 1.55259259e-02, 6.41956747e-01,\n",
              "        3.69723677e-03, 2.77440190e-01, 3.07780262e-02, 1.94370802e-02,\n",
              "        5.06697269e-03, 2.19584350e-03],\n",
              "       [2.52442481e-03, 1.31334842e-03, 1.54096540e-02, 5.34757257e-01,\n",
              "        1.55548658e-03, 4.20611709e-01, 9.04775225e-03, 9.89315100e-03,\n",
              "        3.65592563e-03, 1.23124826e-03],\n",
              "       [8.92427342e-04, 4.54153924e-04, 1.14540784e-02, 7.11577833e-01,\n",
              "        1.11721118e-03, 2.09392071e-01, 2.93086227e-02, 9.50766169e-03,\n",
              "        2.11596303e-02, 5.13642468e-03],\n",
              "       [4.07745334e-04, 1.31036228e-04, 4.43023583e-03, 6.73102379e-01,\n",
              "        2.32634810e-03, 2.91594714e-01, 2.10637264e-02, 5.60107455e-03,\n",
              "        5.39563131e-04, 8.03193776e-04],\n",
              "       [2.00959577e-04, 3.68584966e-04, 5.83078479e-03, 6.59464002e-01,\n",
              "        3.67762125e-03, 2.97480226e-01, 2.19458733e-02, 9.92548652e-03,\n",
              "        3.75717733e-04, 7.30729371e-04],\n",
              "       [1.16031978e-03, 2.10190448e-03, 4.36565978e-03, 7.04152584e-01,\n",
              "        1.64009712e-03, 2.04812974e-01, 4.23066579e-02, 1.57107937e-03,\n",
              "        4.64634737e-03, 3.32423896e-02],\n",
              "       [3.21419560e-04, 1.14724203e-03, 3.85390199e-03, 4.46724206e-01,\n",
              "        1.92451384e-03, 5.27776420e-01, 1.16436100e-02, 3.56284413e-03,\n",
              "        2.24239938e-03, 8.03326257e-04],\n",
              "       [1.26124476e-03, 5.74166654e-04, 1.81333181e-02, 4.87119555e-01,\n",
              "        1.83688023e-03, 4.48723882e-01, 1.95406079e-02, 1.77083183e-02,\n",
              "        4.12303209e-03, 9.79063683e-04],\n",
              "       [8.82790075e-04, 3.64556763e-04, 2.67306832e-03, 7.27144241e-01,\n",
              "        2.50026380e-04, 2.55497366e-01, 1.02482177e-02, 1.13346206e-03,\n",
              "        9.09124385e-04, 8.97153863e-04],\n",
              "       [9.64453910e-04, 5.40589041e-04, 4.18501999e-03, 2.53899306e-01,\n",
              "        9.11186356e-03, 6.27455294e-01, 7.25549879e-03, 7.26919696e-02,\n",
              "        2.32006907e-02, 6.95361057e-04],\n",
              "       [9.05651250e-04, 3.75523610e-04, 9.92610306e-03, 7.10642040e-01,\n",
              "        1.24437246e-03, 2.47770816e-01, 1.65126584e-02, 1.14365499e-02,\n",
              "        8.62604880e-04, 3.23567248e-04],\n",
              "       [1.47945643e-03, 7.35840411e-04, 3.80430068e-03, 6.35022640e-01,\n",
              "        2.27820041e-04, 3.44575256e-01, 6.77749002e-03, 2.73242779e-03,\n",
              "        3.87740158e-03, 7.67354330e-04],\n",
              "       [1.45451492e-02, 1.32087548e-03, 2.10993756e-02, 7.10395157e-01,\n",
              "        2.88172305e-04, 1.99250907e-01, 1.93131194e-02, 1.31005403e-02,\n",
              "        1.20263239e-02, 8.66039097e-03],\n",
              "       [1.79718167e-03, 4.04656027e-03, 6.03819825e-03, 4.17331696e-01,\n",
              "        8.05963820e-04, 4.45229053e-01, 4.08824533e-02, 2.30773701e-03,\n",
              "        6.42570183e-02, 1.73039678e-02],\n",
              "       [8.33356899e-05, 3.18301230e-04, 5.76009392e-04, 1.57010660e-01,\n",
              "        1.31261826e-04, 8.36918712e-01, 2.73426319e-03, 1.19882438e-03,\n",
              "        6.50242262e-04, 3.78495257e-04],\n",
              "       [2.04261835e-03, 3.17616184e-04, 3.53506915e-02, 6.36983216e-01,\n",
              "        1.38352579e-03, 1.99745461e-01, 8.44595134e-02, 6.71882322e-03,\n",
              "        3.23353820e-02, 6.63091720e-04],\n",
              "       [8.94284341e-04, 2.57650041e-03, 7.19448179e-03, 7.42385030e-01,\n",
              "        4.17715823e-03, 1.28475785e-01, 9.60373431e-02, 3.33119160e-03,\n",
              "        1.21267894e-02, 2.80143507e-03]])"
            ]
          },
          "metadata": {
            "tags": []
          },
          "execution_count": 51
        }
      ]
    },
    {
      "cell_type": "code",
      "metadata": {
        "id": "iNxyoQL_ngkV",
        "colab": {
          "base_uri": "https://localhost:8080/",
          "height": 266
        },
        "outputId": "4ac6e34f-37cf-441e-b038-f759bb698039"
      },
      "source": [
        "for i in range(10):\n",
        "  plt.subplot(2,5,i+1)\n",
        "  plt.hist(x[:,i])"
      ],
      "execution_count": 52,
      "outputs": [
        {
          "output_type": "display_data",
          "data": {
            "image/png": "[encoded data removed]",
            "text/plain": [
              "<Figure size 432x288 with 10 Axes>"
            ]
          },
          "metadata": {
            "tags": [],
            "needs_background": "light"
          }
        }
      ]
    },
    {
      "cell_type": "code",
      "metadata": {
        "id": "VqAtL7K8nu9F",
        "colab": {
          "base_uri": "https://localhost:8080/"
        },
        "outputId": "89b575e4-a784-4bb8-b487-569b1db43e2c"
      },
      "source": [
        "x.mean(axis=0)"
      ],
      "execution_count": 58,
      "outputs": [
        {
          "output_type": "execute_result",
          "data": {
            "text/plain": [
              "array([0.00130145, 0.00078639, 0.00801943, 0.54989553, 0.00270165,\n",
              "       0.38523097, 0.02748659, 0.00869002, 0.01361067, 0.00227728])"
            ]
          },
          "metadata": {
            "tags": []
          },
          "execution_count": 58
        }
      ]
    },
    {
      "cell_type": "code",
      "metadata": {
        "id": "D-zvqguKoTY4",
        "colab": {
          "base_uri": "https://localhost:8080/"
        },
        "outputId": "09997c80-731c-469c-c9e7-2fbfaf4b3959"
      },
      "source": [
        "y_test[0]"
      ],
      "execution_count": 33,
      "outputs": [
        {
          "output_type": "execute_result",
          "data": {
            "text/plain": [
              "array([0., 0., 0., 1., 0., 0., 0., 0., 0., 0.], dtype=float32)"
            ]
          },
          "metadata": {
            "tags": []
          },
          "execution_count": 33
        }
      ]
    },
    {
      "cell_type": "code",
      "metadata": {
        "id": "lbMOmZAIOXqC"
      },
      "source": [
        "(x_train_b, y_train_b), (x_test_b, y_test_b) = tf.keras.datasets.cifar10.load_data()"
      ],
      "execution_count": 63,
      "outputs": []
    },
    {
      "cell_type": "code",
      "metadata": {
        "colab": {
          "base_uri": "https://localhost:8080/",
          "height": 284
        },
        "id": "q6qez5mgNddH",
        "outputId": "356b6b7c-6a0f-47c3-af94-951e042e9e03"
      },
      "source": [
        "plt.imshow(x_test_b[0])"
      ],
      "execution_count": 64,
      "outputs": [
        {
          "output_type": "execute_result",
          "data": {
            "text/plain": [
              "<matplotlib.image.AxesImage at 0x7f1c1d7cd510>"
            ]
          },
          "metadata": {
            "tags": []
          },
          "execution_count": 64
        },
        {
          "output_type": "display_data",
          "data": {
            "image/png": "[encoded data removed]",
            "text/plain": [
              "<Figure size 432x288 with 1 Axes>"
            ]
          },
          "metadata": {
            "tags": [],
            "needs_background": "light"
          }
        }
      ]
    },
    {
      "cell_type": "code",
      "metadata": {
        "colab": {
          "base_uri": "https://localhost:8080/",
          "height": 36
        },
        "id": "mOZQKipjOouu",
        "outputId": "f5225fb2-19f5-47a1-d928-512bf882d533"
      },
      "source": [
        "labels[y_test_b[0].tolist()[0]]"
      ],
      "execution_count": 80,
      "outputs": [
        {
          "output_type": "execute_result",
          "data": {
            "application/vnd.google.colaboratory.intrinsic+json": {
              "type": "string"
            },
            "text/plain": [
              "'cat'"
            ]
          },
          "metadata": {
            "tags": []
          },
          "execution_count": 80
        }
      ]
    },
    {
      "cell_type": "code",
      "metadata": {
        "id": "kXcNcsqsoemt",
        "colab": {
          "base_uri": "https://localhost:8080/",
          "height": 459
        },
        "outputId": "bbb59910-d2ee-468f-dd2b-6567e65befb6"
      },
      "source": [
        "# plt.subplot(4,3,7)\n",
        "# plt.axis('off')\n",
        "plt.text(1.1,1.1, \"Bayesian CNN via VI\",fontsize=22,horizontalalignment='center')\n",
        "plt.subplot(1,1,1)\n",
        "for i in range(0,50):\n",
        "  plt.scatter(range(0,10),model_vi.predict(test_in),c=\"blue\",alpha=0.2)\n",
        "# plt.xticks(range(0,10),labels=np.repeat(\" \",10))\n",
        "plt.xticks(range(0,10),labels=labels,fontsize=16)\n",
        "plt.xticks(rotation=90)\n",
        "plt.ylim([0,1])\n",
        "plt.ylabel(\"P(class)\",fontsize=16)\n"
      ],
      "execution_count": 81,
      "outputs": [
        {
          "output_type": "stream",
          "text": [
            "/usr/local/lib/python3.7/dist-packages/ipykernel_launcher.py:4: MatplotlibDeprecationWarning: Adding an axes using the same arguments as a previous axes currently reuses the earlier instance.  In a future version, a new instance will always be created and returned.  Meanwhile, this warning can be suppressed, and the future behavior ensured, by passing a unique label to each axes instance.\n",
            "  after removing the cwd from sys.path.\n"
          ],
          "name": "stderr"
        },
        {
          "output_type": "execute_result",
          "data": {
            "text/plain": [
              "Text(0, 0.5, 'P(class)')"
            ]
          },
          "metadata": {
            "tags": []
          },
          "execution_count": 81
        },
        {
          "output_type": "display_data",
          "data": {
            "image/png": "[encoded data removed]",
            "text/plain": [
              "<Figure size 432x288 with 1 Axes>"
            ]
          },
          "metadata": {
            "tags": [],
            "needs_background": "light"
          }
        }
      ]
    },
    {
      "cell_type": "markdown",
      "metadata": {
        "id": "-0d2EiFNQoNg"
      },
      "source": [
        "As you can see, the picture was predicted as a cat which is the same as the true label of the picture. However, we see more detail of the uncertain levels of the Bayesian prediction. There are some uncertainty that it may also be  a dog, frog, ship, truck, airplane, automobile, bird, deer. However, the probability to be cat is significantly higher than others."
      ]
    },
    {
      "cell_type": "code",
      "metadata": {
        "id": "m53dJZY4Qm3j"
      },
      "source": [
        ""
      ],
      "execution_count": null,
      "outputs": []
    }
  ]
}